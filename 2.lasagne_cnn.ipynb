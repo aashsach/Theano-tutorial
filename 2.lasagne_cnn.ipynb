{
 "cells": [
  {
   "cell_type": "markdown",
   "metadata": {},
   "source": [
    "#### Vanilla Convolutional Neural networks!!\n",
    "More on interfacing lasagna layers."
   ]
  },
  {
   "cell_type": "code",
   "execution_count": 1,
   "metadata": {
    "collapsed": false
   },
   "outputs": [
    {
     "name": "stderr",
     "output_type": "stream",
     "text": [
      "Using gpu device 0: Tesla K40c (CNMeM is disabled, cuDNN 4007)\n"
     ]
    }
   ],
   "source": [
    "#usual imports\n",
    "import numpy as np\n",
    "import theano\n",
    "import theano.tensor as T\n",
    "import lasagne\n",
    "\n",
    "#libraries to display images\n",
    "from IPython.display import Image\n",
    "import matplotlib.pyplot as plt\n",
    "%matplotlib inline\n",
    "\n",
    "#naive helper to load data and iterate\n",
    "from helpers import iterate_minibatches, load_dataset"
   ]
  },
  {
   "cell_type": "code",
   "execution_count": 2,
   "metadata": {
    "collapsed": true
   },
   "outputs": [],
   "source": [
    "def build_cnn(input_var):\n",
    "    \n",
    "    #notice how symbolic links are formed between layers using same variable name\n",
    "    \n",
    "    network = lasagne.layers.InputLayer(shape=(None, 1, 28, 28),\n",
    "                                        input_var=input_var,\n",
    "                                        name = \"Input\")\n",
    "    \n",
    "    network = lasagne.layers.Conv2DLayer(network, \n",
    "                                         num_filters=32, \n",
    "                                         filter_size=(5, 5),\n",
    "                                         name = \"Conv1\")\n",
    "    \n",
    "    network = lasagne.layers.MaxPool2DLayer(network, \n",
    "                                            pool_size=(2, 2),\n",
    "                                            name = \"Pool1\")\n",
    "\n",
    "    network = lasagne.layers.Conv2DLayer(network, \n",
    "                                         num_filters=32, \n",
    "                                         filter_size=(5, 5),\n",
    "                                         name = \"Conv2\"\n",
    "                                        )\n",
    "    \n",
    "    network = lasagne.layers.MaxPool2DLayer(network, \n",
    "                                            pool_size=(2, 2),\n",
    "                                            name = \"Pool2\"\n",
    "                                           )\n",
    "    \n",
    "    network = lasagne.layers.dropout(network, p=.5, name = \"Drop1\")\n",
    "    \n",
    "    network = lasagne.layers.DenseLayer(network,\n",
    "                                        num_units=256,\n",
    "                                        name = \"Dense1\"\n",
    "                                       )\n",
    "    \n",
    "    network = lasagne.layers.dropout(network, p=.5,name = \"Drop2\")\n",
    "    \n",
    "    network = lasagne.layers.DenseLayer(network,\n",
    "                                        num_units=10,\n",
    "                                        nonlinearity=lasagne.nonlinearities.softmax,\n",
    "                                        name = \"Output\"\n",
    "                                       )\n",
    "    \n",
    "    #reference to last layer is pretty much all we need.\n",
    "    return network"
   ]
  },
  {
   "cell_type": "code",
   "execution_count": 3,
   "metadata": {
    "collapsed": false
   },
   "outputs": [
    {
     "name": "stdout",
     "output_type": "stream",
     "text": [
      "Loading data...\n",
      "Data loaded...\n"
     ]
    }
   ],
   "source": [
    "print(\"Loading data...\")\n",
    "x_train, y_train, x_val, y_val, x_test, y_test = load_dataset()\n",
    "print(\"Data loaded...\")"
   ]
  },
  {
   "cell_type": "code",
   "execution_count": 4,
   "metadata": {
    "collapsed": false
   },
   "outputs": [
    {
     "name": "stdout",
     "output_type": "stream",
     "text": [
      "Input (None, 1, 28, 28)\n",
      "Conv1 (None, 32, 24, 24)\n",
      "Pool1 (None, 32, 12, 12)\n",
      "Conv2 (None, 32, 8, 8)\n",
      "Pool2 (None, 32, 4, 4)\n",
      "Drop1 (None, 32, 4, 4)\n",
      "Dense1 (None, 256)\n",
      "Drop2 (None, 256)\n",
      "Output (None, 10)\n"
     ]
    }
   ],
   "source": [
    "#symbolic inputs and outputs\n",
    "x = T.tensor4('inputs')\n",
    "y = T.ivector('targets')\n",
    "\n",
    "#build network\n",
    "network = build_cnn(x)\n",
    "\n",
    "#lets see what we have\n",
    "for layer in lasagne.layers.get_all_layers(network):\n",
    "    print layer.name, layer.output_shape"
   ]
  },
  {
   "cell_type": "code",
   "execution_count": 5,
   "metadata": {
    "collapsed": true
   },
   "outputs": [],
   "source": [
    "#rest is pretty much same as MLP\n",
    "\n",
    "prediction = lasagne.layers.get_output(network)\n",
    "loss = lasagne.objectives.categorical_crossentropy(prediction, y)\n",
    "loss = loss.mean()\n",
    "\n",
    "params = lasagne.layers.get_all_params(network, trainable=True)\n",
    "updates = lasagne.updates.adam(loss, params)\n",
    "\n",
    "train_fn = theano.function([x, y], \n",
    "                           loss, \n",
    "                           updates = updates)"
   ]
  },
  {
   "cell_type": "code",
   "execution_count": 8,
   "metadata": {
    "collapsed": false
   },
   "outputs": [],
   "source": [
    "#different test prediction to remove dropout\n",
    "test_prediction = lasagne.layers.get_output(network,\n",
    "                                            deterministic=True)\n",
    "\n",
    "#different loss with respect to test_prediction\n",
    "test_loss = lasagne.objectives.categorical_crossentropy(test_prediction,y)\n",
    "test_loss = test_loss.mean()\n",
    "\n",
    "test_acc = T.mean(T.eq(T.argmax(test_prediction, axis=1), y),\n",
    "                  dtype=theano.config.floatX)\n",
    "\n",
    "\n",
    "val_fn = theano.function([x, y], \n",
    "                         [test_loss, test_acc])\n",
    "\n",
    "#observe how y is not required for this graph and neither passed!!\n",
    "test_fn = theano.function([x], \n",
    "                         outputs=[test_prediction])"
   ]
  },
  {
   "cell_type": "code",
   "execution_count": 9,
   "metadata": {
    "collapsed": false
   },
   "outputs": [
    {
     "name": "stdout",
     "output_type": "stream",
     "text": [
      "epoch: 1\n",
      "Training Cost: 0.379776\n",
      "Testing Error: 0.0760303 Accuracy: 0.978384\n",
      "epoch: 2\n",
      "Training Cost: 0.127013\n",
      "Testing Error: 0.0492211 Accuracy: 0.985859\n",
      "epoch: 3\n",
      "Training Cost: 0.0936924\n",
      "Testing Error: 0.0386372 Accuracy: 0.987879\n",
      "epoch: 4\n",
      "Training Cost: 0.0797285\n",
      "Testing Error: 0.0370939 Accuracy: 0.989293\n",
      "epoch: 5\n",
      "Training Cost: 0.0692856\n",
      "Testing Error: 0.0361928 Accuracy: 0.989091\n",
      "epoch: 6\n",
      "Training Cost: 0.0603504\n",
      "Testing Error: 0.0309113 Accuracy: 0.990808\n",
      "epoch: 7\n",
      "Training Cost: 0.0581049\n",
      "Testing Error: 0.0329913 Accuracy: 0.989293\n",
      "epoch: 8\n",
      "Training Cost: 0.0532947\n",
      "Testing Error: 0.0294604 Accuracy: 0.991111\n",
      "epoch: 9\n",
      "Training Cost: 0.0484163\n",
      "Testing Error: 0.0299227 Accuracy: 0.99101\n",
      "epoch: 10\n",
      "Training Cost: 0.0445354\n",
      "Testing Error: 0.029989 Accuracy: 0.991111\n"
     ]
    }
   ],
   "source": [
    "n_epochs = 10\n",
    "batch_size = 100 \n",
    "for epoch in range(n_epochs):\n",
    "    print \"epoch:\",epoch+1\n",
    "    train_cost = []\n",
    "    for i in range(0, x_train.shape[0]- batch_size, batch_size ):\n",
    "        train_cost.append( train_fn(x_train[i:i+batch_size], y_train[i:i+batch_size]) )\n",
    "    print \"Training Cost:\", np.mean(train_cost)\n",
    "    \n",
    "    valid_err = []\n",
    "    valid_acc = []\n",
    "    for i in range(0, x_val.shape[0]- batch_size, batch_size ):\n",
    "        cur_loss, cur_acc = val_fn(x_val[i:i+batch_size], y_val[i:i+batch_size])\n",
    "        valid_err.append( cur_loss )\n",
    "        valid_acc.append( cur_acc )\n",
    "    print \"Testing Error:\", np.mean(valid_err) , \"Accuracy:\",  np.mean(valid_acc)"
   ]
  },
  {
   "cell_type": "code",
   "execution_count": 10,
   "metadata": {
    "collapsed": true
   },
   "outputs": [],
   "source": [
    "#lets check a random image\n",
    "y_hat = test_fn(x_test[0:1])"
   ]
  },
  {
   "cell_type": "code",
   "execution_count": 12,
   "metadata": {
    "collapsed": false
   },
   "outputs": [
    {
     "data": {
      "text/plain": [
       "7"
      ]
     },
     "execution_count": 12,
     "metadata": {},
     "output_type": "execute_result"
    }
   ],
   "source": [
    "np.argmax(y_hat)"
   ]
  },
  {
   "cell_type": "code",
   "execution_count": 15,
   "metadata": {
    "collapsed": false
   },
   "outputs": [
    {
     "data": {
      "text/plain": [
       "<matplotlib.image.AxesImage at 0x16911d50>"
      ]
     },
     "execution_count": 15,
     "metadata": {},
     "output_type": "execute_result"
    },
    {
     "data": {
      "image/png": "[encoded data removed]",
      "text/plain": [
       "<matplotlib.figure.Figure at 0x155eb310>"
      ]
     },
     "metadata": {},
     "output_type": "display_data"
    }
   ],
   "source": [
    "plt.imshow(x_test[0][0], cmap=\"gray\")"
   ]
  }
 ],
 "metadata": {
  "kernelspec": {
   "display_name": "Python 2",
   "language": "python",
   "name": "python2"
  },
  "language_info": {
   "codemirror_mode": {
    "name": "ipython",
    "version": 2
   },
   "file_extension": ".py",
   "mimetype": "text/x-python",
   "name": "python",
   "nbconvert_exporter": "python",
   "pygments_lexer": "ipython2",
   "version": "2.7.11+"
  }
 },
 "nbformat": 4,
 "nbformat_minor": 0
}
