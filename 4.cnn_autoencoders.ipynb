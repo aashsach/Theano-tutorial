{
 "cells": [
  {
   "cell_type": "markdown",
   "metadata": {},
   "source": [
    "### Convolutional Auto-encoders"
   ]
  },
  {
   "cell_type": "code",
   "execution_count": 1,
   "metadata": {
    "collapsed": true
   },
   "outputs": [],
   "source": [
    "import matplotlib.pyplot as plt\n",
    "%matplotlib inline\n",
    "import numpy as np\n",
    "from IPython.display import Image"
   ]
  },
  {
   "cell_type": "code",
   "execution_count": 2,
   "metadata": {
    "collapsed": false
   },
   "outputs": [
    {
     "name": "stderr",
     "output_type": "stream",
     "text": [
      "Using gpu device 0: Tesla K40c (CNMeM is disabled, cuDNN 4007)\n"
     ]
    }
   ],
   "source": [
    "#the usual imports\n",
    "import lasagne\n",
    "import theano\n",
    "import lasagne.layers as layer\n",
    "import lasagne.layers.cuda_convnet as layerc\n",
    "import theano.tensor as T"
   ]
  },
  {
   "cell_type": "code",
   "execution_count": 3,
   "metadata": {
    "collapsed": true
   },
   "outputs": [],
   "source": [
    "#just a helper to load data!!\n",
    "from helpers import load_dataset"
   ]
  },
  {
   "cell_type": "code",
   "execution_count": 4,
   "metadata": {
    "collapsed": false
   },
   "outputs": [
    {
     "name": "stdout",
     "output_type": "stream",
     "text": [
      "Loading data...\n",
      "Data loaded...\n"
     ]
    }
   ],
   "source": [
    "print(\"Loading data...\")\n",
    "X_train, _, X_val, _, X_test, _ = load_dataset()\n",
    "print(\"Data loaded...\")"
   ]
  },
  {
   "cell_type": "markdown",
   "metadata": {},
   "source": [
    "### Types of padding"
   ]
  },
  {
   "cell_type": "code",
   "execution_count": 34,
   "metadata": {
    "collapsed": false
   },
   "outputs": [
    {
     "data": {
      "text/plain": [
       "(1, 1, 28, 28)"
      ]
     },
     "execution_count": 34,
     "metadata": {},
     "output_type": "execute_result"
    }
   ],
   "source": [
    "random_image = X_train[0:1]\n",
    "random_image.shape"
   ]
  },
  {
   "cell_type": "code",
   "execution_count": 35,
   "metadata": {
    "collapsed": false
   },
   "outputs": [
    {
     "name": "stdout",
     "output_type": "stream",
     "text": [
      "valid image: (1, 1, 26, 26) \n",
      "full image: (1, 1, 30, 30) \n",
      "same_image: (1, 1, 28, 28)\n"
     ]
    }
   ],
   "source": [
    "dummy_input = layer.InputLayer(shape=(1,1,28,28))\n",
    "\n",
    "valid = layer.Conv2DLayer(dummy_input, W = lasagne.init.np.ones((1,1,3,3), dtype=np.float32),\n",
    "                            num_filters=1,filter_size=3, \n",
    "                            pad=\"valid\")\n",
    "\n",
    "full = layer.Conv2DLayer(dummy_input, W = lasagne.init.np.ones((1,1,3,3),dtype=np.float32),\n",
    "                            num_filters=1,filter_size=3, \n",
    "                            pad=\"full\")\n",
    "\n",
    "same = layer.Conv2DLayer(dummy_input, W = lasagne.init.np.ones((1,1,3,3),dtype=np.float32),\n",
    "                            num_filters=1,filter_size=3, \n",
    "                            pad=\"same\")\n",
    "\n",
    "valid_l, full_l, same_l = lasagne.layers.get_output([valid,full,same])\n",
    "\n",
    "paddings = theano.function(inputs=[dummy_input.input_var],\n",
    "                outputs=[valid_l,full_l,same_l])\n",
    "\n",
    "valid_image , full_image , same_image = paddings(random_image)\n",
    "\n",
    "print \"valid image:\", valid_image.shape, \"\\nfull image:\", full_image.shape, \"\\nsame_image:\", same_image.shape"
   ]
  },
  {
   "cell_type": "markdown",
   "metadata": {},
   "source": [
    "### How full and valid padddings can be used interestingly!"
   ]
  },
  {
   "cell_type": "code",
   "execution_count": 24,
   "metadata": {
    "collapsed": false
   },
   "outputs": [],
   "source": [
    "def convolutional_autoencoder(input_var=None):\n",
    "    \n",
    "    network = layer.InputLayer(shape=(None,1,28,28),\n",
    "                               input_var=input_var, name = \"input\")\n",
    "    \n",
    "    network = layerc.Conv2DCCLayer(network, \n",
    "                                   num_filters=16, \n",
    "                                   filter_size=3, \n",
    "                                   pad=\"valid\", name = \"conv1\")\n",
    "    \n",
    "    network = layerc.Conv2DCCLayer(network, \n",
    "                                   num_filters=16, \n",
    "                                   filter_size=3,\n",
    "                                   pad=\"valid\", name = \"conv2\")\n",
    "    \n",
    "    network = layerc.MaxPool2DCCLayer(network,\n",
    "                                      (2,2), name = \"maxpool1\")\n",
    "    \n",
    "    network = layerc.Conv2DCCLayer(network, \n",
    "                                   num_filters=32,\n",
    "                                   filter_size=3, \n",
    "                                   pad=\"valid\", name = \"conv3\")\n",
    "    \n",
    "    network = layerc.MaxPool2DCCLayer(network,\n",
    "                                      (2,2), name = \"maxpool2\")\n",
    "    \n",
    "    network = layer.reshape(network,([0],-1), name = \"flatten\")\n",
    "    \n",
    "    network = layer.DenseLayer(network, num_units=128, name = \"dense1\")\n",
    "    network = layer.DenseLayer(network, num_units=16, name = \"dense2\")\n",
    "    network = layer.DenseLayer(network, num_units=128, name = \"dense-2\")\n",
    "    network = layer.DenseLayer(network, num_units=800, name = \"dense-1\")\n",
    "    \n",
    "    network = layer.reshape(network,(-1,32,5,5), name = \"unflatten\")\n",
    "    \n",
    "    network = layer.Upscale2DLayer(network,\n",
    "                                   scale_factor=2, name = \"upscale-2\")\n",
    "    \n",
    "    network = layerc.Conv2DCCLayer(network, \n",
    "                                   num_filters=16,\n",
    "                                   filter_size=3,\n",
    "                                   pad=\"full\", name = \"deconv-3\")\n",
    "    \n",
    "    network = layer.Upscale2DLayer(network,\n",
    "                                   scale_factor=2, name = \"upscale-2\")\n",
    "    \n",
    "    network = layerc.Conv2DCCLayer(network, \n",
    "                                   num_filters=16,\n",
    "                                   filter_size=3,\n",
    "                                   pad=\"full\", name = \"deconv-2\")\n",
    "    \n",
    "    network = layer.Conv2DLayer(network, \n",
    "                                num_filters=1,\n",
    "                                filter_size=3,\n",
    "                                pad=\"full\", name = \"deconv-1\")\n",
    "    \n",
    "    return network"
   ]
  },
  {
   "cell_type": "code",
   "execution_count": 7,
   "metadata": {
    "collapsed": true
   },
   "outputs": [],
   "source": [
    "ip = T.tensor4(\"input\")"
   ]
  },
  {
   "cell_type": "code",
   "execution_count": 25,
   "metadata": {
    "collapsed": true
   },
   "outputs": [],
   "source": [
    "network = convolutional_autoencoder(ip)"
   ]
  },
  {
   "cell_type": "code",
   "execution_count": 27,
   "metadata": {
    "collapsed": false
   },
   "outputs": [
    {
     "name": "stdout",
     "output_type": "stream",
     "text": [
      "input (None, 1, 28, 28)\n",
      "conv1 (None, 16, 26, 26)\n",
      "conv2 (None, 16, 24, 24)\n",
      "maxpool1 (None, 16, 12, 12)\n",
      "conv3 (None, 32, 10, 10)\n",
      "maxpool2 (None, 32, 5, 5)\n",
      "flatten (None, 800)\n",
      "dense1 (None, 128)\n",
      "dense2 (None, 16)\n",
      "dense-2 (None, 128)\n",
      "dense-1 (None, 800)\n",
      "unflatten (None, 32, 5, 5)\n",
      "upscale-2 (None, 32, 10, 10)\n",
      "deconv-3 (None, 16, 12, 12)\n",
      "upscale-2 (None, 16, 24, 24)\n",
      "deconv-2 (None, 16, 26, 26)\n",
      "deconv-1 (None, 1, 28, 28)\n"
     ]
    }
   ],
   "source": [
    "#let' see what we got!!\n",
    "for l in lasagne.layers.get_all_layers(network):\n",
    "    print l.name, l.output_shape"
   ]
  },
  {
   "cell_type": "code",
   "execution_count": 10,
   "metadata": {
    "collapsed": false
   },
   "outputs": [],
   "source": [
    "#get output of network\n",
    "prediction = lasagne.layers.get_output(network)\n",
    "\n",
    "#define loss\n",
    "loss = lasagne.objectives.squared_error(ip,prediction)\n",
    "loss = loss.mean()\n",
    "\n",
    "#gete network parameters\n",
    "params = lasagne.layers.get_all_params(network, trainable=True)\n",
    "\n",
    "#define backprop\n",
    "updates = lasagne.updates.adam(loss,params)                                "
   ]
  },
  {
   "cell_type": "code",
   "execution_count": 28,
   "metadata": {
    "collapsed": false
   },
   "outputs": [],
   "source": [
    "#the usual functions\n",
    "train_fn = theano.function(inputs = [ip], \n",
    "                           outputs = loss, #interested in loss\n",
    "                           updates = updates)\n",
    "\n",
    "test_fn = theano.function(inputs = [ip], \n",
    "                          outputs = prediction) #interested in actual output\n",
    "                            #also no updates!!"
   ]
  },
  {
   "cell_type": "code",
   "execution_count": 14,
   "metadata": {
    "collapsed": false
   },
   "outputs": [
    {
     "name": "stdout",
     "output_type": "stream",
     "text": [
      "after epoch 1 training loss:  0.0155701\n",
      "after epoch 2 training loss:  0.0149746\n",
      "after epoch 3 training loss:  0.0145273\n",
      "after epoch 4 training loss:  0.0141264\n",
      "after epoch 5 training loss:  0.0137614\n",
      "after epoch 6 training loss:  0.0134416\n",
      "after epoch 7 training loss:  0.0131674\n",
      "after epoch 8 training loss:  0.0129334\n",
      "after epoch 9 training loss:  0.0127275\n",
      "after epoch 10 training loss:  0.0125456\n"
     ]
    }
   ],
   "source": [
    "num_epochs = 10\n",
    "batch_size = 100\n",
    "for epoch in range(num_epochs):\n",
    "    train_loss = []\n",
    "    for i in range(0,X_train.shape[0]- batch_size, batch_size):\n",
    "        train_loss.append(train_fn(X_train[i:i+batch_size]))\n",
    "    print \"after epoch\", epoch+1, \"training loss: \" , np.mean(train_loss)"
   ]
  },
  {
   "cell_type": "code",
   "execution_count": 20,
   "metadata": {
    "collapsed": true
   },
   "outputs": [],
   "source": [
    "output_image = test_fn(X_test[1:2])"
   ]
  },
  {
   "cell_type": "code",
   "execution_count": 21,
   "metadata": {
    "collapsed": false
   },
   "outputs": [
    {
     "data": {
      "text/plain": [
       "<matplotlib.image.AxesImage at 0x1f5767d0>"
      ]
     },
     "execution_count": 21,
     "metadata": {},
     "output_type": "execute_result"
    },
    {
     "data": {
      "image/png": "[encoded data removed]",
      "text/plain": [
       "<matplotlib.figure.Figure at 0x100fd950>"
      ]
     },
     "metadata": {},
     "output_type": "display_data"
    }
   ],
   "source": [
    "#let's see what network got!!\n",
    "plt.imshow(output_image.reshape((28,28)), cmap=\"gray\")"
   ]
  },
  {
   "cell_type": "code",
   "execution_count": 22,
   "metadata": {
    "collapsed": false
   },
   "outputs": [
    {
     "data": {
      "text/plain": [
       "<matplotlib.image.AxesImage at 0x1e897e50>"
      ]
     },
     "execution_count": 22,
     "metadata": {},
     "output_type": "execute_result"
    },
    {
     "data": {
      "image/png": "[encoded data removed]",
      "text/plain": [
       "<matplotlib.figure.Figure at 0x1a2566d0>"
      ]
     },
     "metadata": {},
     "output_type": "display_data"
    }
   ],
   "source": [
    "#what it actually was!!\n",
    "plt.imshow(X_test[1:2].reshape((28,28)), cmap=\"gray\")"
   ]
  }
 ],
 "metadata": {
  "kernelspec": {
   "display_name": "Python 2",
   "language": "python",
   "name": "python2"
  },
  "language_info": {
   "codemirror_mode": {
    "name": "ipython",
    "version": 2
   },
   "file_extension": ".py",
   "mimetype": "text/x-python",
   "name": "python",
   "nbconvert_exporter": "python",
   "pygments_lexer": "ipython2",
   "version": "2.7.11+"
  }
 },
 "nbformat": 4,
 "nbformat_minor": 0
}
