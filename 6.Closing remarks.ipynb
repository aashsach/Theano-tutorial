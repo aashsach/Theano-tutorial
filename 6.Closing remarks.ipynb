{
 "cells": [
  {
   "cell_type": "markdown",
   "metadata": {},
   "source": [
    "### Some tips."
   ]
  },
  {
   "cell_type": "markdown",
   "metadata": {},
   "source": [
    "1. Always remember to use floating-point 32 when using GPU...! \n",
    "2. Set borrow flag to use memory efficiently.\n",
    "3. If using Ipython notebook, close it after program has ended. Theano memory won't be cleared otherwise.\n",
    "4. Use <i>get_state</i> to serialze and <i>set_state</i> to load network parameters in Theano. (obviously gotta keep track of all variables. Can get messy)!\n",
    "5. Use <i>get_all_param_values</i> and <i>set_all_param_values</i> for same in lasagne. (much cleaner)\n",
    "6. Theano flags are passed to configure theaano.<br>\n",
    "6.1. Mode: 'FAST_COMPILE'(dont'use with GPU) ,'FAST_RUN' (takes more time to compile) <br>\n",
    "6.2 Device: set it to 'gpu' for suing gpu, cpu is used by default. <br>\n",
    "6.3. floatX: set it to float32 as in 1."
   ]
  },
  {
   "cell_type": "markdown",
   "metadata": {},
   "source": [
    "### What Else??"
   ]
  },
  {
   "cell_type": "markdown",
   "metadata": {},
   "source": [
    "\n",
    "1. Mostly all neccessary machinery can be build up from already existing operations in \n",
    "Theano. However custom operations , if required are possible. Also, the extenions are posible in both python as weel as C. <br>\n",
    "http://deeplearning.net/software/theano/extending/extending_theano.html\n",
    "\n",
    "2. Apart from lasagne, keras in another high level library which also has wide following with syntax somewhat similar to Neon.\n",
    "\n",
    "3. Lastly memory efficient than tensorflow. (personal experience)"
   ]
  }
 ],
 "metadata": {
  "kernelspec": {
   "display_name": "Python 2",
   "language": "python",
   "name": "python2"
  },
  "language_info": {
   "codemirror_mode": {
    "name": "ipython",
    "version": 2
   },
   "file_extension": ".py",
   "mimetype": "text/x-python",
   "name": "python",
   "nbconvert_exporter": "python",
   "pygments_lexer": "ipython2",
   "version": "2.7.11+"
  }
 },
 "nbformat": 4,
 "nbformat_minor": 0
}
