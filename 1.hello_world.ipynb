{
 "cells": [
  {
   "cell_type": "markdown",
   "metadata": {},
   "source": [
    "### Vanilla Theano\n",
    "Layers, MNIST, MLP"
   ]
  },
  {
   "cell_type": "code",
   "execution_count": 1,
   "metadata": {
    "collapsed": false
   },
   "outputs": [
    {
     "name": "stderr",
     "output_type": "stream",
     "text": [
      "Using gpu device 0: Tesla K40c (CNMeM is disabled, cuDNN 4007)\n"
     ]
    }
   ],
   "source": [
    "import numpy as np\n",
    "import theano\n",
    "import theano.tensor as T\n",
    "from helpers import load_dataset\n",
    "from IPython.display import Image\n",
    "import matplotlib.pyplot as plt\n",
    "%matplotlib inline"
   ]
  },
  {
   "cell_type": "code",
   "execution_count": 4,
   "metadata": {
    "collapsed": false
   },
   "outputs": [
    {
     "data": {
      "image/png": "[encoded data removed]",
      "text/plain": [
       "<IPython.core.display.Image object>"
      ]
     },
     "execution_count": 4,
     "metadata": {},
     "output_type": "execute_result"
    }
   ],
   "source": [
    "Image(\"./images/mlp.png\")"
   ]
  },
  {
   "cell_type": "markdown",
   "metadata": {},
   "source": [
    "#### let's create these layers!!!"
   ]
  },
  {
   "cell_type": "code",
   "execution_count": 2,
   "metadata": {
    "collapsed": true
   },
   "outputs": [],
   "source": [
    "class Hidden_Layer(object):\n",
    "    def __init__(self,input_, n_in, n_out):\n",
    "        \n",
    "        self.W = theano.shared(\n",
    "                    value=np.random.rand(n_in,n_out).astype(theano.config.floatX), \n",
    "                    name='W', \n",
    "                    borrow=True)\n",
    "        #borrow variable for optimizing memory!!\n",
    "\n",
    "        self.b = theano.shared(\n",
    "                    value=np.zeros((n_out,), dtype=theano.config.floatX), \n",
    "                    name='b', \n",
    "                    borrow=True)\n",
    "\n",
    "        lin_output = T.dot(input_, self.W) + self.b\n",
    "        \n",
    "        self.output = T.nnet.relu(lin_output)\n",
    "        self.params = [self.W, self.b]"
   ]
  },
  {
   "cell_type": "code",
   "execution_count": 32,
   "metadata": {
    "collapsed": true
   },
   "outputs": [],
   "source": [
    "class Output_Layer(object):\n",
    "    \n",
    "    def __init__(self, input_, n_in, n_out):\n",
    "        \n",
    "        self.W = theano.shared(  \n",
    "            value=np.zeros((n_in, n_out),dtype=theano.config.floatX),\n",
    "            name='W',\n",
    "            borrow=True)\n",
    "            \n",
    "        self.b = theano.shared(\n",
    "            value=np.zeros((n_out,),dtype=theano.config.floatX),\n",
    "            name='b',\n",
    "            borrow=True\n",
    "        )\n",
    "        \n",
    "        #probabilities of classes given image x\n",
    "        self.p_y_given_x = T.nnet.softmax(T.dot(input_, self.W) + self.b)\n",
    "        \n",
    "        #class having maximum probabilty is prediction\n",
    "        self.y_pred = T.argmax(self.p_y_given_x, axis=1)\n",
    "        \n",
    "        self.params = [self.W, self.b]\n",
    "        \n",
    "    def negative_log_likelihood(self, y):\n",
    "        return -T.mean(T.log(self.p_y_given_x)[T.arange(y.shape[0]), y])\n",
    "    \n",
    "    def errors(self, y):\n",
    "        return T.mean(T.neq(self.y_pred, y))        "
   ]
  },
  {
   "cell_type": "markdown",
   "metadata": {
    "collapsed": true
   },
   "source": [
    "#### Model parameters!!"
   ]
  },
  {
   "cell_type": "code",
   "execution_count": 20,
   "metadata": {
    "collapsed": true
   },
   "outputs": [],
   "source": [
    "n_in          = 28 * 28   # input image size\n",
    "n_hidden      = 100      # number of hidden units\n",
    "n_out         = 10       # ten way classification\n",
    "learning_rate = 0.01     # for gradient descent\n",
    "L1_reg        = 0.001    # l1 regularizer coefficient\n",
    "L2_reg        = 0.0001   # l2 regularizer coefficient\n",
    "n_epochs      = 10       # iterations\n",
    "batch_size    = 100      # mini batch size"
   ]
  },
  {
   "cell_type": "code",
   "execution_count": 33,
   "metadata": {
    "collapsed": false
   },
   "outputs": [],
   "source": [
    "#get dataset\n",
    "x_train, y_train, x_val, y_val, x_test, y_test = load_dataset()\n",
    "\n",
    "#flatten image\n",
    "x_train = x_train.reshape((-1,n_in)).astype(np.float32)\n",
    "x_val = x_val.reshape((-1,n_in)).astype(np.float32)\n",
    "x_test = x_test.reshape((-1,n_in)).astype(np.float32)\n",
    "\n",
    "#labels are integers\n",
    "y_train = y_train.astype(np.int32)\n",
    "y_val = y_val.astype(np.int32)\n",
    "y_test = y_test.astype(np.int32)"
   ]
  },
  {
   "cell_type": "code",
   "execution_count": 34,
   "metadata": {
    "collapsed": true
   },
   "outputs": [],
   "source": [
    "#define symbolic tensors (or placeholders as tensorflow calls it)\n",
    "x = T.matrix(\"input\")\n",
    "y = T.ivector(\"output\")"
   ]
  },
  {
   "cell_type": "code",
   "execution_count": 35,
   "metadata": {
    "collapsed": false
   },
   "outputs": [],
   "source": [
    "#instantiate hidden class and get a hidden layer!!\n",
    "\n",
    "hidden_layer1 = Hidden_Layer(input_ = x,\n",
    "                            n_in = n_in,\n",
    "                            n_out = n_hidden)\n",
    "\n",
    "#instantiate output class and get a output layer!!\n",
    "\n",
    "output_layer2 = Output_Layer(input_ = hidden_layer1.output,\n",
    "                             n_in = n_hidden,\n",
    "                             n_out = n_out)"
   ]
  },
  {
   "cell_type": "code",
   "execution_count": 36,
   "metadata": {
    "collapsed": true
   },
   "outputs": [],
   "source": [
    "#lets calculate regularizers!\n",
    "L1 = abs(hidden_layer1.W).sum() + abs(output_layer2.W).sum()\n",
    "L2 = (hidden_layer1.W ** 2).sum() + (output_layer2.W ** 2).sum()\n",
    "\n",
    "#get all parametrs of the model\n",
    "params = hidden_layer1.params + output_layer2.params\n",
    "\n",
    "#define cost function\n",
    "cost = output_layer2.negative_log_likelihood(y) + L1_reg*L1 + L2_reg*L2\n",
    "\n",
    "#calulate gradient with respect to all of them!!\n",
    "gparams = []\n",
    "for param in params:\n",
    "    gparams.append(T.grad(cost, param))\n",
    "    \n",
    "#create updation rules\n",
    "updates = [] \n",
    "for param, gparam in zip(params, gparams):\n",
    "    updates.append((param, param - learning_rate * gparam))"
   ]
  },
  {
   "cell_type": "code",
   "execution_count": 37,
   "metadata": {
    "collapsed": false
   },
   "outputs": [],
   "source": [
    "#compile theano functions for training, validation and testing!!\n",
    "\n",
    "train_model = theano.function(inputs = [x,y],\n",
    "                              outputs = cost,\n",
    "                              updates = updates)\n",
    "\n",
    "validate_model = theano.function(inputs = [x,y],\n",
    "                                 outputs = output_layer2.errors(y) )\n",
    "\n",
    "test_model = theano.function(inputs = [x,y],\n",
    "                             outputs = [output_layer2.errors(y), output_layer2.y_pred ] )"
   ]
  },
  {
   "cell_type": "code",
   "execution_count": 38,
   "metadata": {
    "collapsed": false
   },
   "outputs": [
    {
     "name": "stdout",
     "output_type": "stream",
     "text": [
      "epoch: 1\n",
      "Training Cost: 511.517\n",
      "Testing Error: 0.475555555556\n",
      "epoch: 2\n",
      "Training Cost: 59.1313\n",
      "Testing Error: 0.290303030303\n",
      "epoch: 3\n",
      "Training Cost: 45.5234\n",
      "Testing Error: 0.22202020202\n",
      "epoch: 4\n",
      "Training Cost: 41.9724\n",
      "Testing Error: 0.245252525253\n",
      "epoch: 5\n",
      "Training Cost: 40.2374\n",
      "Testing Error: 0.268282828283\n",
      "epoch: 6\n",
      "Training Cost: 39.299\n",
      "Testing Error: 0.201616161616\n",
      "epoch: 7\n",
      "Training Cost: 38.2055\n",
      "Testing Error: 0.181212121212\n",
      "epoch: 8\n",
      "Training Cost: 37.2145\n",
      "Testing Error: 0.183838383838\n",
      "epoch: 9\n",
      "Training Cost: 36.3226\n",
      "Testing Error: 0.181515151515\n",
      "epoch: 10\n",
      "Training Cost: 35.5162\n",
      "Testing Error: 0.173737373737\n"
     ]
    }
   ],
   "source": [
    "for epoch in range(n_epochs):\n",
    "    print \"epoch:\",epoch+1\n",
    "    train_cost = []\n",
    "    for i in range(0, x_train.shape[0]- batch_size, batch_size ):\n",
    "        train_cost.append( train_model(x_train[i:i+batch_size], y_train[i:i+batch_size]) )\n",
    "    print \"Training Cost:\", np.mean(train_cost)\n",
    "    \n",
    "    valid_err = []\n",
    "    for i in range(0, x_val.shape[0]- batch_size, batch_size ):\n",
    "        valid_err.append( validate_model(x_val[i:i+batch_size], y_val[i:i+batch_size]) )\n",
    "    print \"Testing Error:\", np.mean(valid_err)     "
   ]
  },
  {
   "cell_type": "code",
   "execution_count": 16,
   "metadata": {
    "collapsed": false
   },
   "outputs": [],
   "source": [
    "err , y_hat = test_model(x_test[0:1],y_test[0:1])"
   ]
  },
  {
   "cell_type": "code",
   "execution_count": 17,
   "metadata": {
    "collapsed": false
   },
   "outputs": [
    {
     "data": {
      "text/plain": [
       "<matplotlib.image.AxesImage at 0xc108710>"
      ]
     },
     "execution_count": 17,
     "metadata": {},
     "output_type": "execute_result"
    },
    {
     "data": {
      "image/png": "[encoded data removed]",
      "text/plain": [
       "<matplotlib.figure.Figure at 0x337db10>"
      ]
     },
     "metadata": {},
     "output_type": "display_data"
    }
   ],
   "source": [
    "plt.imshow( x_test[0].reshape((28,28)), cmap=\"gray\")"
   ]
  },
  {
   "cell_type": "code",
   "execution_count": 18,
   "metadata": {
    "collapsed": false
   },
   "outputs": [
    {
     "data": {
      "text/plain": [
       "7"
      ]
     },
     "execution_count": 18,
     "metadata": {},
     "output_type": "execute_result"
    }
   ],
   "source": [
    "y_hat[0]"
   ]
  },
  {
   "cell_type": "markdown",
   "metadata": {},
   "source": [
    "Cons:\n",
    "1. Too much explicit, not good for rapid prototyping.\n",
    "2. Manually specify update rules for optimization.\n",
    "3. Simple layers like DenseLayer don't exist."
   ]
  },
  {
   "cell_type": "markdown",
   "metadata": {},
   "source": [
    "### Welcome to Lasagne\n",
    "Bake Theano into \"layer\" wrappers!!"
   ]
  },
  {
   "cell_type": "code",
   "execution_count": 19,
   "metadata": {
    "collapsed": true
   },
   "outputs": [],
   "source": [
    "import lasagne"
   ]
  },
  {
   "cell_type": "code",
   "execution_count": 20,
   "metadata": {
    "collapsed": true
   },
   "outputs": [],
   "source": [
    "#same network defined in lasagne\n",
    "input_layer = lasagne.layers.InputLayer(shape=(None, n_in),\n",
    "                                 input_var=x)\n",
    "\n",
    "hidden_layer1 = lasagne.layers.DenseLayer(input_layer, \n",
    "                                          num_units=100)\n",
    "\n",
    "output_layer2 = lasagne.layers.DenseLayer(hidden_layer1, \n",
    "                                          num_units=10,\n",
    "                                          nonlinearity=lasagne.nonlinearities.softmax)"
   ]
  },
  {
   "cell_type": "code",
   "execution_count": 22,
   "metadata": {
    "collapsed": true
   },
   "outputs": [],
   "source": [
    "#same things again!!\n",
    "\n",
    "prediction = lasagne.layers.get_output(output_layer2)\n",
    "\n",
    "error = T.mean(T.neq(T.argmax(prediction, axis=1), y),dtype=theano.config.floatX)\n",
    "\n",
    "L1 = abs(hidden_layer1.get_params()[0]).sum() + abs(output_layer2.get_params()[0]).sum()\n",
    "L2 = (hidden_layer1.get_params()[0] ** 2).sum() + (output_layer2.get_params()[0] ** 2).sum()\n",
    "\n",
    "loss = lasagne.objectives.categorical_crossentropy(prediction, y)\n",
    "cost = loss.mean() + L1_reg*L1 +L2_reg*L2"
   ]
  },
  {
   "cell_type": "code",
   "execution_count": 23,
   "metadata": {
    "collapsed": false
   },
   "outputs": [],
   "source": [
    "#automatically do backprop and updations\n",
    "\n",
    "params = lasagne.layers.get_all_params(output_layer2, trainable=True)\n",
    "updates = lasagne.updates.adam(cost, params)"
   ]
  },
  {
   "cell_type": "code",
   "execution_count": 24,
   "metadata": {
    "collapsed": true
   },
   "outputs": [],
   "source": [
    "#same theano functions work!!!\n",
    "train_model = theano.function(inputs = [x,y],\n",
    "                              outputs = cost,\n",
    "                              updates = updates)\n",
    "\n",
    "validate_model = theano.function(inputs = [x,y],\n",
    "                                 outputs = error )\n",
    "\n",
    "test_model = theano.function(inputs = [x,y],\n",
    "                             outputs = [error, prediction ] )"
   ]
  },
  {
   "cell_type": "code",
   "execution_count": 25,
   "metadata": {
    "collapsed": false
   },
   "outputs": [
    {
     "name": "stdout",
     "output_type": "stream",
     "text": [
      "epoch: 1\n",
      "Training Cost: 1.38979\n",
      "Testing Error: 0.0923232\n",
      "epoch: 2\n",
      "Training Cost: 0.841984\n",
      "Testing Error: 0.079899\n",
      "epoch: 3\n",
      "Training Cost: 0.763703\n",
      "Testing Error: 0.0712121\n",
      "epoch: 4\n",
      "Training Cost: 0.710029\n",
      "Testing Error: 0.0675758\n",
      "epoch: 5\n",
      "Training Cost: 0.665179\n",
      "Testing Error: 0.0670707\n",
      "epoch: 6\n",
      "Training Cost: 0.629707\n",
      "Testing Error: 0.0651515\n",
      "epoch: 7\n",
      "Training Cost: 0.604045\n",
      "Testing Error: 0.0640404\n",
      "epoch: 8\n",
      "Training Cost: 0.585381\n",
      "Testing Error: 0.0627273\n",
      "epoch: 9\n",
      "Training Cost: 0.571091\n",
      "Testing Error: 0.0620202\n",
      "epoch: 10\n",
      "Training Cost: 0.560132\n",
      "Testing Error: 0.0607071\n"
     ]
    }
   ],
   "source": [
    "for epoch in range(n_epochs):\n",
    "    print \"epoch:\",epoch+1\n",
    "    train_cost = []\n",
    "    for i in range(0, x_train.shape[0]- batch_size, batch_size ):\n",
    "        train_cost.append( train_model(x_train[i:i+batch_size], y_train[i:i+batch_size]) )\n",
    "    print \"Training Cost:\", np.mean(train_cost)\n",
    "    \n",
    "    valid_err = []\n",
    "    for i in range(0, x_val.shape[0]- batch_size, batch_size ):\n",
    "        valid_err.append( validate_model(x_val[i:i+batch_size], y_val[i:i+batch_size]) )\n",
    "    print \"Testing Error:\", np.mean(valid_err)     "
   ]
  },
  {
   "cell_type": "code",
   "execution_count": 26,
   "metadata": {
    "collapsed": true
   },
   "outputs": [],
   "source": [
    "err , y_hat = test_model(x_test[1:2],y_test[1:2])"
   ]
  },
  {
   "cell_type": "code",
   "execution_count": 27,
   "metadata": {
    "collapsed": false
   },
   "outputs": [
    {
     "data": {
      "text/plain": [
       "<matplotlib.image.AxesImage at 0xd03e090>"
      ]
     },
     "execution_count": 27,
     "metadata": {},
     "output_type": "execute_result"
    },
    {
     "data": {
      "image/png": "[encoded data removed]",
      "text/plain": [
       "<matplotlib.figure.Figure at 0xbf00ed0>"
      ]
     },
     "metadata": {},
     "output_type": "display_data"
    }
   ],
   "source": [
    "plt.imshow( x_test[1].reshape((28,28)), cmap=\"gray\")"
   ]
  },
  {
   "cell_type": "code",
   "execution_count": 28,
   "metadata": {
    "collapsed": false
   },
   "outputs": [
    {
     "data": {
      "text/plain": [
       "2"
      ]
     },
     "execution_count": 28,
     "metadata": {},
     "output_type": "execute_result"
    }
   ],
   "source": [
    "np.argmax(y_hat[0])"
   ]
  },
  {
   "cell_type": "code",
   "execution_count": null,
   "metadata": {
    "collapsed": true
   },
   "outputs": [],
   "source": [
    "np.arange()"
   ]
  }
 ],
 "metadata": {
  "kernelspec": {
   "display_name": "Python 2",
   "language": "python",
   "name": "python2"
  },
  "language_info": {
   "codemirror_mode": {
    "name": "ipython",
    "version": 2
   },
   "file_extension": ".py",
   "mimetype": "text/x-python",
   "name": "python",
   "nbconvert_exporter": "python",
   "pygments_lexer": "ipython2",
   "version": "2.7.11+"
  }
 },
 "nbformat": 4,
 "nbformat_minor": 0
}
